{
 "cells": [
  {
   "cell_type": "markdown",
   "id": "2eba69f5",
   "metadata": {},
   "source": [
    "Font Awesome의 SVG 기반 아이콘을 활성화 시키기 위한 기본 패키지 설치\n",
    "npm i @fortawesome/fontawesome-svg-core\n",
    "\n",
    "무료로 제공되는 Solid, Regular Brands 3개의 카테고리에 대한 패키지 설치\n",
    "npm i @fortawesome/free-solid-svg-icons @fortawesome/free-regular-svg-icons @fortawesome/free-brands-svg-icons\n",
    "\n",
    "Font Awesome을 React 컴포넌트 형태로 사용할 수 있도록 해주는 @fortawesome/react-fontawesome 이라는 패키지는 설치\n",
    "npm i @fortawesome/react-fontawesome\n",
    "\n",
    "https://www.daleseo.com/react-font-awesome/"
   ]
  }
 ],
 "metadata": {
  "kernelspec": {
   "display_name": "Python 3 (ipykernel)",
   "language": "python",
   "name": "python3"
  },
  "language_info": {
   "codemirror_mode": {
    "name": "ipython",
    "version": 3
   },
   "file_extension": ".py",
   "mimetype": "text/x-python",
   "name": "python",
   "nbconvert_exporter": "python",
   "pygments_lexer": "ipython3",
   "version": "3.9.13"
  }
 },
 "nbformat": 4,
 "nbformat_minor": 5
}
