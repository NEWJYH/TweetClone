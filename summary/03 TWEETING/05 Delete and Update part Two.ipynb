{
 "cells": [
  {
   "attachments": {
    "image.png": {
     "image/png": "[encoded data removed]"
    }
   },
   "cell_type": "markdown",
   "id": "f8681fec",
   "metadata": {},
   "source": [
    "![image.png](attachment:image.png)"
   ]
  },
  {
   "cell_type": "markdown",
   "id": "cbb3432b",
   "metadata": {},
   "source": [
    "```jsx\n",
    "version9 일경우 delete 부분과 update 부분 작성시)\n",
    "\n",
    "import { dbService } from \"fbase\";\n",
    "import { doc, deleteDoc, updateDoc }from\"firebase/firestore\";\n",
    "\n",
    "//리터럴\n",
    "const NweetTextRef =doc(dbService, \"nweets\", `${nweetObj.id}`);\n",
    "\n",
    "// delete 부분\n",
    "await deleteDoc(NweetTextRef );\n",
    "\n",
    "//update 부분\n",
    "await updateDoc(NweetTextRef, {\n",
    "text: newNweet,\n",
    "});\n",
    "```"
   ]
  },
  {
   "cell_type": "markdown",
   "id": "b7085689",
   "metadata": {},
   "source": [
    "# Jweet.js\n",
    "\n",
    "```jsx\n",
    "import { dbService } from \"fbase\";\n",
    "import { doc, deleteDoc, updateDoc } from \"firebase/firestore\";\n",
    "import { useState } from \"react\";\n",
    "\n",
    "function Jweet({ jweetObj, isOwner }) {\n",
    "  const [editing, setEditing] = useState(false);\n",
    "  const [newJweet, setNewJweet] = useState(jweetObj.text);\n",
    "\n",
    "  const JweetTextRef = doc(dbService, \"jweets\", `${jweetObj.id}`);\n",
    "\n",
    "  const onDeleteClick = async () => {\n",
    "    const ok = window.confirm(\"Are you sure you want to delete this jweet?\");\n",
    "    if (ok) {\n",
    "      // delete jweet\n",
    "      await deleteDoc(JweetTextRef);\n",
    "    }\n",
    "  };\n",
    "\n",
    "  const toggleEditing = () => setEditing((prev) => !prev);\n",
    "\n",
    "  const onSubmit = async (event) => {\n",
    "    event.preventDefault();\n",
    "    if (!newJweet) {\n",
    "      return;\n",
    "    }\n",
    "    // update\n",
    "    await updateDoc(JweetTextRef, {\n",
    "      text: newJweet,\n",
    "      updatedAt: Date.now(),\n",
    "    });\n",
    "    setEditing(false);\n",
    "  };\n",
    "\n",
    "  const onChange = (event) => {\n",
    "    const {\n",
    "      target: { value },\n",
    "    } = event;\n",
    "    setNewJweet(value);\n",
    "  };\n",
    "\n",
    "  return (\n",
    "    <div>\n",
    "      {editing ? (\n",
    "        <>\n",
    "          <form onSubmit={onSubmit}>\n",
    "            <input\n",
    "              type=\"text\"\n",
    "              placeholder=\"Edit your jweet\"\n",
    "              value={newJweet}\n",
    "              onChange={onChange}\n",
    "              required\n",
    "            />\n",
    "            <input type=\"submit\" value=\"Update Jweet\" />\n",
    "          </form>\n",
    "          <button onClick={toggleEditing}>Cancel</button>\n",
    "        </>\n",
    "      ) : (\n",
    "        <>\n",
    "          <h4>{jweetObj.text}</h4>\n",
    "          {isOwner && (\n",
    "            <>\n",
    "              <button onClick={onDeleteClick}>Delete Jweet</button>\n",
    "              <button onClick={toggleEditing}>Edit Jweet</button>\n",
    "            </>\n",
    "          )}\n",
    "        </>\n",
    "      )}\n",
    "    </div>\n",
    "  );\n",
    "}\n",
    "\n",
    "export default Jweet;\n",
    "\n",
    "```"
   ]
  }
 ],
 "metadata": {
  "kernelspec": {
   "display_name": "Python 3 (ipykernel)",
   "language": "python",
   "name": "python3"
  },
  "language_info": {
   "codemirror_mode": {
    "name": "ipython",
    "version": 3
   },
   "file_extension": ".py",
   "mimetype": "text/x-python",
   "name": "python",
   "nbconvert_exporter": "python",
   "pygments_lexer": "ipython3",
   "version": "3.9.13"
  }
 },
 "nbformat": 4,
 "nbformat_minor": 5
}
